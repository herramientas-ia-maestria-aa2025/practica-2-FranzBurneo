{
 "cells": [
  {
   "cell_type": "code",
   "execution_count": 6,
   "id": "d31e1298-d6b1-4c11-81c1-f90ccf33a1c3",
   "metadata": {},
   "outputs": [
    {
     "name": "stdout",
     "output_type": "stream",
     "text": [
      "Collecting mlflow\n",
      "  Obtaining dependency information for mlflow from https://files.pythonhosted.org/packages/28/8f/b3bdbaf3f060801e5d8b7b7f3b67c79e3d12939c67002f9a618150317a29/mlflow-2.22.0-py3-none-any.whl.metadata\n",
      "  Downloading mlflow-2.22.0-py3-none-any.whl.metadata (30 kB)\n",
      "Collecting mlflow-skinny==2.22.0 (from mlflow)\n",
      "  Obtaining dependency information for mlflow-skinny==2.22.0 from https://files.pythonhosted.org/packages/f4/eb/53dd2a5db1040a21da2980c382ebe3a9bda2d8af8365c2d01053c924b150/mlflow_skinny-2.22.0-py3-none-any.whl.metadata\n",
      "  Downloading mlflow_skinny-2.22.0-py3-none-any.whl.metadata (31 kB)\n",
      "Collecting Flask<4 (from mlflow)\n",
      "  Obtaining dependency information for Flask<4 from https://files.pythonhosted.org/packages/3d/68/9d4508e893976286d2ead7f8f571314af6c2037af34853a30fd769c02e9d/flask-3.1.1-py3-none-any.whl.metadata\n",
      "  Downloading flask-3.1.1-py3-none-any.whl.metadata (3.0 kB)\n",
      "Requirement already satisfied: Jinja2<4,>=3.0 in c:\\proyectos\\maestriaia\\practica-2-franzburneo\\venv\\lib\\site-packages (from mlflow) (3.1.6)\n",
      "Collecting alembic!=1.10.0,<2 (from mlflow)\n",
      "  Obtaining dependency information for alembic!=1.10.0,<2 from https://files.pythonhosted.org/packages/31/59/565286efff3692c5716c212202af61466480f6357c4ae3089d4453bff1f3/alembic-1.16.1-py3-none-any.whl.metadata\n",
      "  Downloading alembic-1.16.1-py3-none-any.whl.metadata (7.3 kB)\n",
      "Collecting docker<8,>=4.0.0 (from mlflow)\n",
      "  Obtaining dependency information for docker<8,>=4.0.0 from https://files.pythonhosted.org/packages/e3/26/57c6fb270950d476074c087527a558ccb6f4436657314bfb6cdf484114c4/docker-7.1.0-py3-none-any.whl.metadata\n",
      "  Downloading docker-7.1.0-py3-none-any.whl.metadata (3.8 kB)\n",
      "Collecting graphene<4 (from mlflow)\n",
      "  Obtaining dependency information for graphene<4 from https://files.pythonhosted.org/packages/66/e0/61d8e98007182e6b2aca7cf65904721fb2e4bce0192272ab9cb6f69d8812/graphene-3.4.3-py2.py3-none-any.whl.metadata\n",
      "  Downloading graphene-3.4.3-py2.py3-none-any.whl.metadata (6.9 kB)\n",
      "Collecting markdown<4,>=3.3 (from mlflow)\n",
      "  Obtaining dependency information for markdown<4,>=3.3 from https://files.pythonhosted.org/packages/51/3f/afe76f8e2246ffbc867440cbcf90525264df0e658f8a5ca1f872b3f6192a/markdown-3.8-py3-none-any.whl.metadata\n",
      "  Downloading markdown-3.8-py3-none-any.whl.metadata (5.1 kB)\n",
      "Collecting matplotlib<4 (from mlflow)\n",
      "  Obtaining dependency information for matplotlib<4 from https://files.pythonhosted.org/packages/b1/79/0d1c165eac44405a86478082e225fce87874f7198300bbebc55faaf6d28d/matplotlib-3.10.3-cp312-cp312-win_amd64.whl.metadata\n",
      "  Using cached matplotlib-3.10.3-cp312-cp312-win_amd64.whl.metadata (11 kB)\n",
      "Requirement already satisfied: numpy<3 in c:\\proyectos\\maestriaia\\practica-2-franzburneo\\venv\\lib\\site-packages (from mlflow) (2.2.6)\n",
      "Requirement already satisfied: pandas<3 in c:\\proyectos\\maestriaia\\practica-2-franzburneo\\venv\\lib\\site-packages (from mlflow) (2.2.3)\n",
      "Collecting pyarrow<20,>=4.0.0 (from mlflow)\n",
      "  Obtaining dependency information for pyarrow<20,>=4.0.0 from https://files.pythonhosted.org/packages/16/33/2a67c0f783251106aeeee516f4806161e7b481f7d744d0d643d2f30230a5/pyarrow-19.0.1-cp312-cp312-win_amd64.whl.metadata\n",
      "  Downloading pyarrow-19.0.1-cp312-cp312-win_amd64.whl.metadata (3.4 kB)\n",
      "Requirement already satisfied: scikit-learn<2 in c:\\proyectos\\maestriaia\\practica-2-franzburneo\\venv\\lib\\site-packages (from mlflow) (1.6.1)\n",
      "Requirement already satisfied: scipy<2 in c:\\proyectos\\maestriaia\\practica-2-franzburneo\\venv\\lib\\site-packages (from mlflow) (1.15.3)\n",
      "Collecting sqlalchemy<3,>=1.4.0 (from mlflow)\n",
      "  Obtaining dependency information for sqlalchemy<3,>=1.4.0 from https://files.pythonhosted.org/packages/7f/23/4c2833d78ff3010a4e17f984c734f52b531a8c9060a50429c9d4b0211be6/sqlalchemy-2.0.41-cp312-cp312-win_amd64.whl.metadata\n",
      "  Downloading sqlalchemy-2.0.41-cp312-cp312-win_amd64.whl.metadata (9.8 kB)\n",
      "Collecting waitress<4 (from mlflow)\n",
      "  Obtaining dependency information for waitress<4 from https://files.pythonhosted.org/packages/8d/57/a27182528c90ef38d82b636a11f606b0cbb0e17588ed205435f8affe3368/waitress-3.0.2-py3-none-any.whl.metadata\n",
      "  Downloading waitress-3.0.2-py3-none-any.whl.metadata (5.8 kB)\n",
      "Collecting cachetools<6,>=5.0.0 (from mlflow-skinny==2.22.0->mlflow)\n",
      "  Obtaining dependency information for cachetools<6,>=5.0.0 from https://files.pythonhosted.org/packages/72/76/20fa66124dbe6be5cafeb312ece67de6b61dd91a0247d1ea13db4ebb33c2/cachetools-5.5.2-py3-none-any.whl.metadata\n",
      "  Using cached cachetools-5.5.2-py3-none-any.whl.metadata (5.4 kB)\n",
      "Collecting click<9,>=7.0 (from mlflow-skinny==2.22.0->mlflow)\n",
      "  Obtaining dependency information for click<9,>=7.0 from https://files.pythonhosted.org/packages/85/32/10bb5764d90a8eee674e9dc6f4db6a0ab47c8c4d0d83c27f7c39ac415a4d/click-8.2.1-py3-none-any.whl.metadata\n",
      "  Downloading click-8.2.1-py3-none-any.whl.metadata (2.5 kB)\n",
      "Collecting cloudpickle<4 (from mlflow-skinny==2.22.0->mlflow)\n",
      "  Obtaining dependency information for cloudpickle<4 from https://files.pythonhosted.org/packages/7e/e8/64c37fadfc2816a7701fa8a6ed8d87327c7d54eacfbfb6edab14a2f2be75/cloudpickle-3.1.1-py3-none-any.whl.metadata\n",
      "  Downloading cloudpickle-3.1.1-py3-none-any.whl.metadata (7.1 kB)\n",
      "Collecting databricks-sdk<1,>=0.20.0 (from mlflow-skinny==2.22.0->mlflow)\n",
      "  Obtaining dependency information for databricks-sdk<1,>=0.20.0 from https://files.pythonhosted.org/packages/f6/80/2c6f792c1dce93f59e64cfbdb4766c9ea022061d5005e130978080b6a040/databricks_sdk-0.53.0-py3-none-any.whl.metadata\n",
      "  Downloading databricks_sdk-0.53.0-py3-none-any.whl.metadata (39 kB)\n",
      "Collecting fastapi<1 (from mlflow-skinny==2.22.0->mlflow)\n",
      "  Obtaining dependency information for fastapi<1 from https://files.pythonhosted.org/packages/50/b3/b51f09c2ba432a576fe63758bddc81f78f0c6309d9e5c10d194313bf021e/fastapi-0.115.12-py3-none-any.whl.metadata\n",
      "  Downloading fastapi-0.115.12-py3-none-any.whl.metadata (27 kB)\n",
      "Collecting gitpython<4,>=3.1.9 (from mlflow-skinny==2.22.0->mlflow)\n",
      "  Obtaining dependency information for gitpython<4,>=3.1.9 from https://files.pythonhosted.org/packages/1d/9a/4114a9057db2f1462d5c8f8390ab7383925fe1ac012eaa42402ad65c2963/GitPython-3.1.44-py3-none-any.whl.metadata\n",
      "  Downloading GitPython-3.1.44-py3-none-any.whl.metadata (13 kB)\n",
      "Collecting importlib_metadata!=4.7.0,<9,>=3.7.0 (from mlflow-skinny==2.22.0->mlflow)\n",
      "  Obtaining dependency information for importlib_metadata!=4.7.0,<9,>=3.7.0 from https://files.pythonhosted.org/packages/20/b0/36bd937216ec521246249be3bf9855081de4c5e06a0c9b4219dbeda50373/importlib_metadata-8.7.0-py3-none-any.whl.metadata\n",
      "  Downloading importlib_metadata-8.7.0-py3-none-any.whl.metadata (4.8 kB)\n",
      "Collecting opentelemetry-api<3,>=1.9.0 (from mlflow-skinny==2.22.0->mlflow)\n",
      "  Obtaining dependency information for opentelemetry-api<3,>=1.9.0 from https://files.pythonhosted.org/packages/05/44/4c45a34def3506122ae61ad684139f0bbc4e00c39555d4f7e20e0e001c8a/opentelemetry_api-1.33.1-py3-none-any.whl.metadata\n",
      "  Downloading opentelemetry_api-1.33.1-py3-none-any.whl.metadata (1.6 kB)\n",
      "Collecting opentelemetry-sdk<3,>=1.9.0 (from mlflow-skinny==2.22.0->mlflow)\n",
      "  Obtaining dependency information for opentelemetry-sdk<3,>=1.9.0 from https://files.pythonhosted.org/packages/df/8e/ae2d0742041e0bd7fe0d2dcc5e7cce51dcf7d3961a26072d5b43cc8fa2a7/opentelemetry_sdk-1.33.1-py3-none-any.whl.metadata\n",
      "  Downloading opentelemetry_sdk-1.33.1-py3-none-any.whl.metadata (1.6 kB)\n",
      "Collecting packaging<25 (from mlflow-skinny==2.22.0->mlflow)\n",
      "  Obtaining dependency information for packaging<25 from https://files.pythonhosted.org/packages/88/ef/eb23f262cca3c0c4eb7ab1933c3b1f03d021f2c48f54763065b6f0e321be/packaging-24.2-py3-none-any.whl.metadata\n",
      "  Downloading packaging-24.2-py3-none-any.whl.metadata (3.2 kB)\n",
      "Collecting protobuf<7,>=3.12.0 (from mlflow-skinny==2.22.0->mlflow)\n",
      "  Obtaining dependency information for protobuf<7,>=3.12.0 from https://files.pythonhosted.org/packages/e4/07/cc9b0cbf7593f6ef8cf87fa9b0e55cd74c5cb526dd89ad84aa7d6547ef8d/protobuf-6.31.0-cp310-abi3-win_amd64.whl.metadata\n",
      "  Downloading protobuf-6.31.0-cp310-abi3-win_amd64.whl.metadata (593 bytes)\n",
      "Collecting pydantic<3,>=1.10.8 (from mlflow-skinny==2.22.0->mlflow)\n",
      "  Obtaining dependency information for pydantic<3,>=1.10.8 from https://files.pythonhosted.org/packages/e7/12/46b65f3534d099349e38ef6ec98b1a5a81f42536d17e0ba382c28c67ba67/pydantic-2.11.4-py3-none-any.whl.metadata\n",
      "  Using cached pydantic-2.11.4-py3-none-any.whl.metadata (66 kB)\n",
      "Requirement already satisfied: pyyaml<7,>=5.1 in c:\\proyectos\\maestriaia\\practica-2-franzburneo\\venv\\lib\\site-packages (from mlflow-skinny==2.22.0->mlflow) (6.0.2)\n",
      "Requirement already satisfied: requests<3,>=2.17.3 in c:\\proyectos\\maestriaia\\practica-2-franzburneo\\venv\\lib\\site-packages (from mlflow-skinny==2.22.0->mlflow) (2.32.3)\n",
      "Collecting sqlparse<1,>=0.4.0 (from mlflow-skinny==2.22.0->mlflow)\n",
      "  Obtaining dependency information for sqlparse<1,>=0.4.0 from https://files.pythonhosted.org/packages/a9/5c/bfd6bd0bf979426d405cc6e71eceb8701b148b16c21d2dc3c261efc61c7b/sqlparse-0.5.3-py3-none-any.whl.metadata\n",
      "  Downloading sqlparse-0.5.3-py3-none-any.whl.metadata (3.9 kB)\n",
      "Requirement already satisfied: typing-extensions<5,>=4.0.0 in c:\\proyectos\\maestriaia\\practica-2-franzburneo\\venv\\lib\\site-packages (from mlflow-skinny==2.22.0->mlflow) (4.13.2)\n",
      "Collecting uvicorn<1 (from mlflow-skinny==2.22.0->mlflow)\n",
      "  Obtaining dependency information for uvicorn<1 from https://files.pythonhosted.org/packages/b1/4b/4cef6ce21a2aaca9d852a6e84ef4f135d99fcd74fa75105e2fc0c8308acd/uvicorn-0.34.2-py3-none-any.whl.metadata\n",
      "  Downloading uvicorn-0.34.2-py3-none-any.whl.metadata (6.5 kB)\n",
      "Collecting Mako (from alembic!=1.10.0,<2->mlflow)\n",
      "  Obtaining dependency information for Mako from https://files.pythonhosted.org/packages/87/fb/99f81ac72ae23375f22b7afdb7642aba97c00a713c217124420147681a2f/mako-1.3.10-py3-none-any.whl.metadata\n",
      "  Downloading mako-1.3.10-py3-none-any.whl.metadata (2.9 kB)\n",
      "Requirement already satisfied: pywin32>=304 in c:\\proyectos\\maestriaia\\practica-2-franzburneo\\venv\\lib\\site-packages (from docker<8,>=4.0.0->mlflow) (310)\n",
      "Requirement already satisfied: urllib3>=1.26.0 in c:\\proyectos\\maestriaia\\practica-2-franzburneo\\venv\\lib\\site-packages (from docker<8,>=4.0.0->mlflow) (2.4.0)\n",
      "Collecting blinker>=1.9.0 (from Flask<4->mlflow)\n",
      "  Obtaining dependency information for blinker>=1.9.0 from https://files.pythonhosted.org/packages/10/cb/f2ad4230dc2eb1a74edf38f1a38b9b52277f75bef262d8908e60d957e13c/blinker-1.9.0-py3-none-any.whl.metadata\n",
      "  Downloading blinker-1.9.0-py3-none-any.whl.metadata (1.6 kB)\n",
      "Collecting itsdangerous>=2.2.0 (from Flask<4->mlflow)\n",
      "  Obtaining dependency information for itsdangerous>=2.2.0 from https://files.pythonhosted.org/packages/04/96/92447566d16df59b2a776c0fb82dbc4d9e07cd95062562af01e408583fc4/itsdangerous-2.2.0-py3-none-any.whl.metadata\n",
      "  Downloading itsdangerous-2.2.0-py3-none-any.whl.metadata (1.9 kB)\n",
      "Requirement already satisfied: markupsafe>=2.1.1 in c:\\proyectos\\maestriaia\\practica-2-franzburneo\\venv\\lib\\site-packages (from Flask<4->mlflow) (3.0.2)\n",
      "Collecting werkzeug>=3.1.0 (from Flask<4->mlflow)\n",
      "  Obtaining dependency information for werkzeug>=3.1.0 from https://files.pythonhosted.org/packages/52/24/ab44c871b0f07f491e5d2ad12c9bd7358e527510618cb1b803a88e986db1/werkzeug-3.1.3-py3-none-any.whl.metadata\n",
      "  Downloading werkzeug-3.1.3-py3-none-any.whl.metadata (3.7 kB)\n",
      "Collecting graphql-core<3.3,>=3.1 (from graphene<4->mlflow)\n",
      "  Obtaining dependency information for graphql-core<3.3,>=3.1 from https://files.pythonhosted.org/packages/ae/4f/7297663840621022bc73c22d7d9d80dbc78b4db6297f764b545cd5dd462d/graphql_core-3.2.6-py3-none-any.whl.metadata\n",
      "  Downloading graphql_core-3.2.6-py3-none-any.whl.metadata (11 kB)\n",
      "Collecting graphql-relay<3.3,>=3.1 (from graphene<4->mlflow)\n",
      "  Obtaining dependency information for graphql-relay<3.3,>=3.1 from https://files.pythonhosted.org/packages/74/16/a4cf06adbc711bd364a73ce043b0b08d8fa5aae3df11b6ee4248bcdad2e0/graphql_relay-3.2.0-py3-none-any.whl.metadata\n",
      "  Downloading graphql_relay-3.2.0-py3-none-any.whl.metadata (12 kB)\n",
      "Requirement already satisfied: python-dateutil<3,>=2.7.0 in c:\\proyectos\\maestriaia\\practica-2-franzburneo\\venv\\lib\\site-packages (from graphene<4->mlflow) (2.9.0.post0)\n",
      "Collecting contourpy>=1.0.1 (from matplotlib<4->mlflow)\n",
      "  Obtaining dependency information for contourpy>=1.0.1 from https://files.pythonhosted.org/packages/01/c8/fadd0b92ffa7b5eb5949bf340a63a4a496a6930a6c37a7ba0f12acb076d6/contourpy-1.3.2-cp312-cp312-win_amd64.whl.metadata\n",
      "  Using cached contourpy-1.3.2-cp312-cp312-win_amd64.whl.metadata (5.5 kB)\n",
      "Collecting cycler>=0.10 (from matplotlib<4->mlflow)\n",
      "  Obtaining dependency information for cycler>=0.10 from https://files.pythonhosted.org/packages/e7/05/c19819d5e3d95294a6f5947fb9b9629efb316b96de511b418c53d245aae6/cycler-0.12.1-py3-none-any.whl.metadata\n",
      "  Using cached cycler-0.12.1-py3-none-any.whl.metadata (3.8 kB)\n",
      "Collecting fonttools>=4.22.0 (from matplotlib<4->mlflow)\n",
      "  Obtaining dependency information for fonttools>=4.22.0 from https://files.pythonhosted.org/packages/66/48/29752962a74b7ed95da976b5a968bba1fe611a4a7e50b9fefa345e6e7025/fonttools-4.58.0-cp312-cp312-win_amd64.whl.metadata\n",
      "  Using cached fonttools-4.58.0-cp312-cp312-win_amd64.whl.metadata (106 kB)\n",
      "Collecting kiwisolver>=1.3.1 (from matplotlib<4->mlflow)\n",
      "  Obtaining dependency information for kiwisolver>=1.3.1 from https://files.pythonhosted.org/packages/bd/72/dfff0cc97f2a0776e1c9eb5bef1ddfd45f46246c6533b0191887a427bca5/kiwisolver-1.4.8-cp312-cp312-win_amd64.whl.metadata\n",
      "  Using cached kiwisolver-1.4.8-cp312-cp312-win_amd64.whl.metadata (6.3 kB)\n",
      "Collecting pillow>=8 (from matplotlib<4->mlflow)\n",
      "  Obtaining dependency information for pillow>=8 from https://files.pythonhosted.org/packages/7c/18/24bff2ad716257fc03da964c5e8f05d9790a779a8895d6566e493ccf0189/pillow-11.2.1-cp312-cp312-win_amd64.whl.metadata\n",
      "  Using cached pillow-11.2.1-cp312-cp312-win_amd64.whl.metadata (9.1 kB)\n",
      "Collecting pyparsing>=2.3.1 (from matplotlib<4->mlflow)\n",
      "  Obtaining dependency information for pyparsing>=2.3.1 from https://files.pythonhosted.org/packages/05/e7/df2285f3d08fee213f2d041540fa4fc9ca6c2d44cf36d3a035bf2a8d2bcc/pyparsing-3.2.3-py3-none-any.whl.metadata\n",
      "  Using cached pyparsing-3.2.3-py3-none-any.whl.metadata (5.0 kB)\n",
      "Requirement already satisfied: pytz>=2020.1 in c:\\proyectos\\maestriaia\\practica-2-franzburneo\\venv\\lib\\site-packages (from pandas<3->mlflow) (2025.2)\n",
      "Requirement already satisfied: tzdata>=2022.7 in c:\\proyectos\\maestriaia\\practica-2-franzburneo\\venv\\lib\\site-packages (from pandas<3->mlflow) (2025.2)\n",
      "Requirement already satisfied: joblib>=1.2.0 in c:\\proyectos\\maestriaia\\practica-2-franzburneo\\venv\\lib\\site-packages (from scikit-learn<2->mlflow) (1.5.0)\n",
      "Requirement already satisfied: threadpoolctl>=3.1.0 in c:\\proyectos\\maestriaia\\practica-2-franzburneo\\venv\\lib\\site-packages (from scikit-learn<2->mlflow) (3.6.0)\n",
      "Collecting greenlet>=1 (from sqlalchemy<3,>=1.4.0->mlflow)\n",
      "  Obtaining dependency information for greenlet>=1 from https://files.pythonhosted.org/packages/07/f4/b2a26a309a04fb844c7406a4501331b9400e1dd7dd64d3450472fd47d2e1/greenlet-3.2.2-cp312-cp312-win_amd64.whl.metadata\n",
      "  Using cached greenlet-3.2.2-cp312-cp312-win_amd64.whl.metadata (4.2 kB)\n",
      "Requirement already satisfied: colorama in c:\\proyectos\\maestriaia\\practica-2-franzburneo\\venv\\lib\\site-packages (from click<9,>=7.0->mlflow-skinny==2.22.0->mlflow) (0.4.6)\n",
      "Collecting google-auth~=2.0 (from databricks-sdk<1,>=0.20.0->mlflow-skinny==2.22.0->mlflow)\n",
      "  Obtaining dependency information for google-auth~=2.0 from https://files.pythonhosted.org/packages/6a/c7/e2d82e6702e2a9e2311c138f8e1100f21d08aed0231290872b229ae57a86/google_auth-2.40.2-py2.py3-none-any.whl.metadata\n",
      "  Downloading google_auth-2.40.2-py2.py3-none-any.whl.metadata (6.2 kB)\n",
      "Collecting starlette<0.47.0,>=0.40.0 (from fastapi<1->mlflow-skinny==2.22.0->mlflow)\n",
      "  Obtaining dependency information for starlette<0.47.0,>=0.40.0 from https://files.pythonhosted.org/packages/8b/0c/9d30a4ebeb6db2b25a841afbb80f6ef9a854fc3b41be131d249a977b4959/starlette-0.46.2-py3-none-any.whl.metadata\n",
      "  Downloading starlette-0.46.2-py3-none-any.whl.metadata (6.2 kB)\n",
      "Collecting gitdb<5,>=4.0.1 (from gitpython<4,>=3.1.9->mlflow-skinny==2.22.0->mlflow)\n",
      "  Obtaining dependency information for gitdb<5,>=4.0.1 from https://files.pythonhosted.org/packages/a0/61/5c78b91c3143ed5c14207f463aecfc8f9dbb5092fb2869baf37c273b2705/gitdb-4.0.12-py3-none-any.whl.metadata\n",
      "  Downloading gitdb-4.0.12-py3-none-any.whl.metadata (1.2 kB)\n",
      "Collecting zipp>=3.20 (from importlib_metadata!=4.7.0,<9,>=3.7.0->mlflow-skinny==2.22.0->mlflow)\n",
      "  Obtaining dependency information for zipp>=3.20 from https://files.pythonhosted.org/packages/b7/1a/7e4798e9339adc931158c9d69ecc34f5e6791489d469f5e50ec15e35f458/zipp-3.21.0-py3-none-any.whl.metadata\n",
      "  Downloading zipp-3.21.0-py3-none-any.whl.metadata (3.7 kB)\n",
      "Collecting deprecated>=1.2.6 (from opentelemetry-api<3,>=1.9.0->mlflow-skinny==2.22.0->mlflow)\n",
      "  Obtaining dependency information for deprecated>=1.2.6 from https://files.pythonhosted.org/packages/6e/c6/ac0b6c1e2d138f1002bcf799d330bd6d85084fece321e662a14223794041/Deprecated-1.2.18-py2.py3-none-any.whl.metadata\n",
      "  Downloading Deprecated-1.2.18-py2.py3-none-any.whl.metadata (5.7 kB)\n",
      "Collecting importlib_metadata!=4.7.0,<9,>=3.7.0 (from mlflow-skinny==2.22.0->mlflow)\n",
      "  Obtaining dependency information for importlib_metadata!=4.7.0,<9,>=3.7.0 from https://files.pythonhosted.org/packages/79/9d/0fb148dc4d6fa4a7dd1d8378168d9b4cd8d4560a6fbf6f0121c5fc34eb68/importlib_metadata-8.6.1-py3-none-any.whl.metadata\n",
      "  Downloading importlib_metadata-8.6.1-py3-none-any.whl.metadata (4.7 kB)\n",
      "Collecting opentelemetry-semantic-conventions==0.54b1 (from opentelemetry-sdk<3,>=1.9.0->mlflow-skinny==2.22.0->mlflow)\n",
      "  Obtaining dependency information for opentelemetry-semantic-conventions==0.54b1 from https://files.pythonhosted.org/packages/0a/80/08b1698c52ff76d96ba440bf15edc2f4bc0a279868778928e947c1004bdd/opentelemetry_semantic_conventions-0.54b1-py3-none-any.whl.metadata\n",
      "  Downloading opentelemetry_semantic_conventions-0.54b1-py3-none-any.whl.metadata (2.5 kB)\n",
      "Collecting annotated-types>=0.6.0 (from pydantic<3,>=1.10.8->mlflow-skinny==2.22.0->mlflow)\n",
      "  Obtaining dependency information for annotated-types>=0.6.0 from https://files.pythonhosted.org/packages/78/b6/6307fbef88d9b5ee7421e68d78a9f162e0da4900bc5f5793f6d3d0e34fb8/annotated_types-0.7.0-py3-none-any.whl.metadata\n",
      "  Using cached annotated_types-0.7.0-py3-none-any.whl.metadata (15 kB)\n",
      "Collecting pydantic-core==2.33.2 (from pydantic<3,>=1.10.8->mlflow-skinny==2.22.0->mlflow)\n",
      "  Obtaining dependency information for pydantic-core==2.33.2 from https://files.pythonhosted.org/packages/43/e4/5479fecb3606c1368d496a825d8411e126133c41224c1e7238be58b87d7e/pydantic_core-2.33.2-cp312-cp312-win_amd64.whl.metadata\n",
      "  Using cached pydantic_core-2.33.2-cp312-cp312-win_amd64.whl.metadata (6.9 kB)\n",
      "Collecting typing-inspection>=0.4.0 (from pydantic<3,>=1.10.8->mlflow-skinny==2.22.0->mlflow)\n",
      "  Obtaining dependency information for typing-inspection>=0.4.0 from https://files.pythonhosted.org/packages/17/69/cd203477f944c353c31bade965f880aa1061fd6bf05ded0726ca845b6ff7/typing_inspection-0.4.1-py3-none-any.whl.metadata\n",
      "  Downloading typing_inspection-0.4.1-py3-none-any.whl.metadata (2.6 kB)\n",
      "Requirement already satisfied: six>=1.5 in c:\\proyectos\\maestriaia\\practica-2-franzburneo\\venv\\lib\\site-packages (from python-dateutil<3,>=2.7.0->graphene<4->mlflow) (1.17.0)\n",
      "Requirement already satisfied: charset-normalizer<4,>=2 in c:\\proyectos\\maestriaia\\practica-2-franzburneo\\venv\\lib\\site-packages (from requests<3,>=2.17.3->mlflow-skinny==2.22.0->mlflow) (3.4.2)\n",
      "Requirement already satisfied: idna<4,>=2.5 in c:\\proyectos\\maestriaia\\practica-2-franzburneo\\venv\\lib\\site-packages (from requests<3,>=2.17.3->mlflow-skinny==2.22.0->mlflow) (3.10)\n",
      "Requirement already satisfied: certifi>=2017.4.17 in c:\\proyectos\\maestriaia\\practica-2-franzburneo\\venv\\lib\\site-packages (from requests<3,>=2.17.3->mlflow-skinny==2.22.0->mlflow) (2025.4.26)\n",
      "Requirement already satisfied: h11>=0.8 in c:\\proyectos\\maestriaia\\practica-2-franzburneo\\venv\\lib\\site-packages (from uvicorn<1->mlflow-skinny==2.22.0->mlflow) (0.16.0)\n",
      "Collecting wrapt<2,>=1.10 (from deprecated>=1.2.6->opentelemetry-api<3,>=1.9.0->mlflow-skinny==2.22.0->mlflow)\n",
      "  Obtaining dependency information for wrapt<2,>=1.10 from https://files.pythonhosted.org/packages/15/06/1dbf478ea45c03e78a6a8c4be4fdc3c3bddea5c8de8a93bc971415e47f0f/wrapt-1.17.2-cp312-cp312-win_amd64.whl.metadata\n",
      "  Downloading wrapt-1.17.2-cp312-cp312-win_amd64.whl.metadata (6.5 kB)\n",
      "Collecting smmap<6,>=3.0.1 (from gitdb<5,>=4.0.1->gitpython<4,>=3.1.9->mlflow-skinny==2.22.0->mlflow)\n",
      "  Obtaining dependency information for smmap<6,>=3.0.1 from https://files.pythonhosted.org/packages/04/be/d09147ad1ec7934636ad912901c5fd7667e1c858e19d355237db0d0cd5e4/smmap-5.0.2-py3-none-any.whl.metadata\n",
      "  Downloading smmap-5.0.2-py3-none-any.whl.metadata (4.3 kB)\n",
      "Collecting pyasn1-modules>=0.2.1 (from google-auth~=2.0->databricks-sdk<1,>=0.20.0->mlflow-skinny==2.22.0->mlflow)\n",
      "  Obtaining dependency information for pyasn1-modules>=0.2.1 from https://files.pythonhosted.org/packages/47/8d/d529b5d697919ba8c11ad626e835d4039be708a35b0d22de83a269a6682c/pyasn1_modules-0.4.2-py3-none-any.whl.metadata\n",
      "  Downloading pyasn1_modules-0.4.2-py3-none-any.whl.metadata (3.5 kB)\n",
      "Collecting rsa<5,>=3.1.4 (from google-auth~=2.0->databricks-sdk<1,>=0.20.0->mlflow-skinny==2.22.0->mlflow)\n",
      "  Obtaining dependency information for rsa<5,>=3.1.4 from https://files.pythonhosted.org/packages/64/8d/0133e4eb4beed9e425d9a98ed6e081a55d195481b7632472be1af08d2f6b/rsa-4.9.1-py3-none-any.whl.metadata\n",
      "  Downloading rsa-4.9.1-py3-none-any.whl.metadata (5.6 kB)\n",
      "Requirement already satisfied: anyio<5,>=3.6.2 in c:\\proyectos\\maestriaia\\practica-2-franzburneo\\venv\\lib\\site-packages (from starlette<0.47.0,>=0.40.0->fastapi<1->mlflow-skinny==2.22.0->mlflow) (4.9.0)\n",
      "Requirement already satisfied: sniffio>=1.1 in c:\\proyectos\\maestriaia\\practica-2-franzburneo\\venv\\lib\\site-packages (from anyio<5,>=3.6.2->starlette<0.47.0,>=0.40.0->fastapi<1->mlflow-skinny==2.22.0->mlflow) (1.3.1)\n",
      "Collecting pyasn1<0.7.0,>=0.6.1 (from pyasn1-modules>=0.2.1->google-auth~=2.0->databricks-sdk<1,>=0.20.0->mlflow-skinny==2.22.0->mlflow)\n",
      "  Obtaining dependency information for pyasn1<0.7.0,>=0.6.1 from https://files.pythonhosted.org/packages/c8/f1/d6a797abb14f6283c0ddff96bbdd46937f64122b8c925cab503dd37f8214/pyasn1-0.6.1-py3-none-any.whl.metadata\n",
      "  Downloading pyasn1-0.6.1-py3-none-any.whl.metadata (8.4 kB)\n",
      "Downloading mlflow-2.22.0-py3-none-any.whl (29.0 MB)\n",
      "   ---------------------------------------- 0.0/29.0 MB ? eta -:--:--\n",
      "   ---------------------------------------- 0.1/29.0 MB 2.6 MB/s eta 0:00:12\n",
      "   ---------------------------------------- 0.3/29.0 MB 4.3 MB/s eta 0:00:07\n",
      "   - -------------------------------------- 0.8/29.0 MB 6.8 MB/s eta 0:00:05\n",
      "   - -------------------------------------- 1.2/29.0 MB 6.8 MB/s eta 0:00:05\n",
      "   -- ------------------------------------- 1.6/29.0 MB 7.8 MB/s eta 0:00:04\n",
      "   -- ------------------------------------- 2.0/29.0 MB 8.0 MB/s eta 0:00:04\n",
      "   --- ------------------------------------ 2.4/29.0 MB 8.2 MB/s eta 0:00:04\n",
      "   --- ------------------------------------ 2.9/29.0 MB 8.3 MB/s eta 0:00:04\n",
      "   ---- ----------------------------------- 3.3/29.0 MB 8.4 MB/s eta 0:00:04\n",
      "   ----- ---------------------------------- 3.7/29.0 MB 8.4 MB/s eta 0:00:04\n",
      "   ----- ---------------------------------- 4.1/29.0 MB 8.4 MB/s eta 0:00:03\n",
      "   ------ --------------------------------- 4.5/29.0 MB 8.5 MB/s eta 0:00:03\n",
      "   ------- -------------------------------- 5.4/29.0 MB 9.5 MB/s eta 0:00:03\n",
      "   ---------- ----------------------------- 7.9/29.0 MB 12.6 MB/s eta 0:00:02\n",
      "   ---------------- ----------------------- 12.1/29.0 MB 24.2 MB/s eta 0:00:01\n",
      "   ---------------------- ----------------- 16.6/29.0 MB 93.9 MB/s eta 0:00:01\n",
      "   ------------------------- -------------- 18.5/29.0 MB 81.8 MB/s eta 0:00:01\n",
      "   ------------------------------- -------- 22.8/29.0 MB 81.8 MB/s eta 0:00:01\n",
      "   -------------------------------------- - 28.1/29.0 MB 93.0 MB/s eta 0:00:01\n",
      "   ---------------------------------------  29.0/29.0 MB 93.9 MB/s eta 0:00:01\n",
      "   ---------------------------------------  29.0/29.0 MB 93.9 MB/s eta 0:00:01\n",
      "   ---------------------------------------- 29.0/29.0 MB 50.4 MB/s eta 0:00:00\n",
      "Downloading mlflow_skinny-2.22.0-py3-none-any.whl (6.3 MB)\n",
      "   ---------------------------------------- 0.0/6.3 MB ? eta -:--:--\n",
      "   ------------------------ --------------- 3.9/6.3 MB 125.9 MB/s eta 0:00:01\n",
      "   ---------------------------------------- 6.3/6.3 MB 80.2 MB/s eta 0:00:00\n",
      "Downloading alembic-1.16.1-py3-none-any.whl (242 kB)\n",
      "   ---------------------------------------- 0.0/242.5 kB ? eta -:--:--\n",
      "   ---------------------------------------- 242.5/242.5 kB ? eta 0:00:00\n",
      "Downloading docker-7.1.0-py3-none-any.whl (147 kB)\n",
      "   ---------------------------------------- 0.0/147.8 kB ? eta -:--:--\n",
      "   ---------------------------------------- 147.8/147.8 kB ? eta 0:00:00\n",
      "Downloading flask-3.1.1-py3-none-any.whl (103 kB)\n",
      "   ---------------------------------------- 0.0/103.3 kB ? eta -:--:--\n",
      "   ---------------------------------------- 103.3/103.3 kB 5.8 MB/s eta 0:00:00\n",
      "Downloading graphene-3.4.3-py2.py3-none-any.whl (114 kB)\n",
      "   ---------------------------------------- 0.0/114.9 kB ? eta -:--:--\n",
      "   ---------------------------------------- 114.9/114.9 kB ? eta 0:00:00\n",
      "Downloading markdown-3.8-py3-none-any.whl (106 kB)\n",
      "   ---------------------------------------- 0.0/106.2 kB ? eta -:--:--\n",
      "   ---------------------------------------- 106.2/106.2 kB ? eta 0:00:00\n",
      "Using cached matplotlib-3.10.3-cp312-cp312-win_amd64.whl (8.1 MB)\n",
      "Downloading pyarrow-19.0.1-cp312-cp312-win_amd64.whl (25.3 MB)\n",
      "   ---------------------------------------- 0.0/25.3 MB ? eta -:--:--\n",
      "   ----- ---------------------------------- 3.7/25.3 MB 78.0 MB/s eta 0:00:01\n",
      "   ------------ --------------------------- 8.2/25.3 MB 87.6 MB/s eta 0:00:01\n",
      "   ----------------- ---------------------- 10.8/25.3 MB 73.1 MB/s eta 0:00:01\n",
      "   --------------------- ------------------ 13.3/25.3 MB 65.6 MB/s eta 0:00:01\n",
      "   ------------------------- -------------- 15.9/25.3 MB 65.6 MB/s eta 0:00:01\n",
      "   ----------------------------- ---------- 18.4/25.3 MB 54.4 MB/s eta 0:00:01\n",
      "   --------------------------------- ------ 20.9/25.3 MB 54.4 MB/s eta 0:00:01\n",
      "   ------------------------------------- -- 23.4/25.3 MB 54.4 MB/s eta 0:00:01\n",
      "   ---------------------------------------  25.2/25.3 MB 54.4 MB/s eta 0:00:01\n",
      "   ---------------------------------------  25.2/25.3 MB 54.4 MB/s eta 0:00:01\n",
      "   ---------------------------------------- 25.3/25.3 MB 36.3 MB/s eta 0:00:00\n",
      "Downloading sqlalchemy-2.0.41-cp312-cp312-win_amd64.whl (2.1 MB)\n",
      "   ---------------------------------------- 0.0/2.1 MB ? eta -:--:--\n",
      "   ---------------------------------------  2.1/2.1 MB 45.6 MB/s eta 0:00:01\n",
      "   ---------------------------------------- 2.1/2.1 MB 45.7 MB/s eta 0:00:00\n",
      "Downloading waitress-3.0.2-py3-none-any.whl (56 kB)\n",
      "   ---------------------------------------- 0.0/56.2 kB ? eta -:--:--\n",
      "   ---------------------------------------- 56.2/56.2 kB 2.9 MB/s eta 0:00:00\n",
      "Downloading blinker-1.9.0-py3-none-any.whl (8.5 kB)\n",
      "Using cached cachetools-5.5.2-py3-none-any.whl (10 kB)\n",
      "Downloading click-8.2.1-py3-none-any.whl (102 kB)\n",
      "   ---------------------------------------- 0.0/102.2 kB ? eta -:--:--\n",
      "   ---------------------------------------- 102.2/102.2 kB 6.1 MB/s eta 0:00:00\n",
      "Downloading cloudpickle-3.1.1-py3-none-any.whl (20 kB)\n",
      "Using cached contourpy-1.3.2-cp312-cp312-win_amd64.whl (223 kB)\n",
      "Using cached cycler-0.12.1-py3-none-any.whl (8.3 kB)\n",
      "Downloading databricks_sdk-0.53.0-py3-none-any.whl (700 kB)\n",
      "   ---------------------------------------- 0.0/700.2 kB ? eta -:--:--\n",
      "   --------------------------------------- 700.2/700.2 kB 43.1 MB/s eta 0:00:00\n",
      "Downloading fastapi-0.115.12-py3-none-any.whl (95 kB)\n",
      "   ---------------------------------------- 0.0/95.2 kB ? eta -:--:--\n",
      "   ---------------------------------------- 95.2/95.2 kB ? eta 0:00:00\n",
      "Using cached fonttools-4.58.0-cp312-cp312-win_amd64.whl (2.2 MB)\n",
      "Downloading GitPython-3.1.44-py3-none-any.whl (207 kB)\n",
      "   ---------------------------------------- 0.0/207.6 kB ? eta -:--:--\n",
      "   --------------------------------------- 207.6/207.6 kB 12.3 MB/s eta 0:00:00\n",
      "Downloading graphql_core-3.2.6-py3-none-any.whl (203 kB)\n",
      "   ---------------------------------------- 0.0/203.4 kB ? eta -:--:--\n",
      "   --------------------------------------- 203.4/203.4 kB 12.1 MB/s eta 0:00:00\n",
      "Downloading graphql_relay-3.2.0-py3-none-any.whl (16 kB)\n",
      "Using cached greenlet-3.2.2-cp312-cp312-win_amd64.whl (296 kB)\n",
      "Downloading itsdangerous-2.2.0-py3-none-any.whl (16 kB)\n",
      "Using cached kiwisolver-1.4.8-cp312-cp312-win_amd64.whl (71 kB)\n",
      "Downloading opentelemetry_api-1.33.1-py3-none-any.whl (65 kB)\n",
      "   ---------------------------------------- 0.0/65.8 kB ? eta -:--:--\n",
      "   ---------------------------------------- 65.8/65.8 kB ? eta 0:00:00\n",
      "Downloading importlib_metadata-8.6.1-py3-none-any.whl (26 kB)\n",
      "Downloading opentelemetry_sdk-1.33.1-py3-none-any.whl (118 kB)\n",
      "   ---------------------------------------- 0.0/119.0 kB ? eta -:--:--\n",
      "   ---------------------------------------- 119.0/119.0 kB ? eta 0:00:00\n",
      "Downloading opentelemetry_semantic_conventions-0.54b1-py3-none-any.whl (194 kB)\n",
      "   ---------------------------------------- 0.0/194.9 kB ? eta -:--:--\n",
      "   --------------------------------------- 194.9/194.9 kB 11.5 MB/s eta 0:00:00\n",
      "Downloading packaging-24.2-py3-none-any.whl (65 kB)\n",
      "   ---------------------------------------- 0.0/65.5 kB ? eta -:--:--\n",
      "   ---------------------------------------- 65.5/65.5 kB ? eta 0:00:00\n",
      "Using cached pillow-11.2.1-cp312-cp312-win_amd64.whl (2.7 MB)\n",
      "Downloading protobuf-6.31.0-cp310-abi3-win_amd64.whl (435 kB)\n",
      "   ---------------------------------------- 0.0/435.1 kB ? eta -:--:--\n",
      "   --------------------------------------- 435.1/435.1 kB 28.3 MB/s eta 0:00:00\n",
      "Using cached pydantic-2.11.4-py3-none-any.whl (443 kB)\n",
      "Using cached pydantic_core-2.33.2-cp312-cp312-win_amd64.whl (2.0 MB)\n",
      "Using cached pyparsing-3.2.3-py3-none-any.whl (111 kB)\n",
      "Downloading sqlparse-0.5.3-py3-none-any.whl (44 kB)\n",
      "   ---------------------------------------- 0.0/44.4 kB ? eta -:--:--\n",
      "   ---------------------------------------- 44.4/44.4 kB ? eta 0:00:00\n",
      "Downloading uvicorn-0.34.2-py3-none-any.whl (62 kB)\n",
      "   ---------------------------------------- 0.0/62.5 kB ? eta -:--:--\n",
      "   ---------------------------------------- 62.5/62.5 kB ? eta 0:00:00\n",
      "Downloading werkzeug-3.1.3-py3-none-any.whl (224 kB)\n",
      "   ---------------------------------------- 0.0/224.5 kB ? eta -:--:--\n",
      "   --------------------------------------- 224.5/224.5 kB 13.4 MB/s eta 0:00:00\n",
      "Downloading mako-1.3.10-py3-none-any.whl (78 kB)\n",
      "   ---------------------------------------- 0.0/78.5 kB ? eta -:--:--\n",
      "   ---------------------------------------- 78.5/78.5 kB 4.3 MB/s eta 0:00:00\n",
      "Using cached annotated_types-0.7.0-py3-none-any.whl (13 kB)\n",
      "Downloading Deprecated-1.2.18-py2.py3-none-any.whl (10.0 kB)\n",
      "Downloading gitdb-4.0.12-py3-none-any.whl (62 kB)\n",
      "   ---------------------------------------- 0.0/62.8 kB ? eta -:--:--\n",
      "   ---------------------------------------- 62.8/62.8 kB 3.3 MB/s eta 0:00:00\n",
      "Downloading google_auth-2.40.2-py2.py3-none-any.whl (216 kB)\n",
      "   ---------------------------------------- 0.0/216.1 kB ? eta -:--:--\n",
      "   --------------------------------------- 216.1/216.1 kB 13.7 MB/s eta 0:00:00\n",
      "Downloading starlette-0.46.2-py3-none-any.whl (72 kB)\n",
      "   ---------------------------------------- 0.0/72.0 kB ? eta -:--:--\n",
      "   ---------------------------------------- 72.0/72.0 kB 3.9 MB/s eta 0:00:00\n",
      "Downloading typing_inspection-0.4.1-py3-none-any.whl (14 kB)\n",
      "Downloading zipp-3.21.0-py3-none-any.whl (9.6 kB)\n",
      "Downloading pyasn1_modules-0.4.2-py3-none-any.whl (181 kB)\n",
      "   ---------------------------------------- 0.0/181.3 kB ? eta -:--:--\n",
      "   ---------------------------------------- 181.3/181.3 kB ? eta 0:00:00\n",
      "Downloading rsa-4.9.1-py3-none-any.whl (34 kB)\n",
      "Downloading smmap-5.0.2-py3-none-any.whl (24 kB)\n",
      "Downloading wrapt-1.17.2-cp312-cp312-win_amd64.whl (38 kB)\n",
      "Downloading pyasn1-0.6.1-py3-none-any.whl (83 kB)\n",
      "   ---------------------------------------- 0.0/83.1 kB ? eta -:--:--\n",
      "   ---------------------------------------- 83.1/83.1 kB ? eta 0:00:00\n",
      "Installing collected packages: zipp, wrapt, werkzeug, waitress, typing-inspection, sqlparse, smmap, pyparsing, pydantic-core, pyasn1, pyarrow, protobuf, pillow, packaging, markdown, Mako, kiwisolver, itsdangerous, greenlet, graphql-core, fonttools, cycler, contourpy, cloudpickle, click, cachetools, blinker, annotated-types, uvicorn, starlette, sqlalchemy, rsa, pydantic, pyasn1-modules, matplotlib, importlib_metadata, graphql-relay, gitdb, Flask, docker, deprecated, opentelemetry-api, graphene, google-auth, gitpython, fastapi, alembic, opentelemetry-semantic-conventions, databricks-sdk, opentelemetry-sdk, mlflow-skinny, mlflow\n",
      "  Attempting uninstall: packaging\n",
      "    Found existing installation: packaging 25.0\n",
      "    Uninstalling packaging-25.0:\n",
      "      Successfully uninstalled packaging-25.0\n",
      "Successfully installed Flask-3.1.1 Mako-1.3.10 alembic-1.16.1 annotated-types-0.7.0 blinker-1.9.0 cachetools-5.5.2 click-8.2.1 cloudpickle-3.1.1 contourpy-1.3.2 cycler-0.12.1 databricks-sdk-0.53.0 deprecated-1.2.18 docker-7.1.0 fastapi-0.115.12 fonttools-4.58.0 gitdb-4.0.12 gitpython-3.1.44 google-auth-2.40.2 graphene-3.4.3 graphql-core-3.2.6 graphql-relay-3.2.0 greenlet-3.2.2 importlib_metadata-8.6.1 itsdangerous-2.2.0 kiwisolver-1.4.8 markdown-3.8 matplotlib-3.10.3 mlflow-2.22.0 mlflow-skinny-2.22.0 opentelemetry-api-1.33.1 opentelemetry-sdk-1.33.1 opentelemetry-semantic-conventions-0.54b1 packaging-24.2 pillow-11.2.1 protobuf-6.31.0 pyarrow-19.0.1 pyasn1-0.6.1 pyasn1-modules-0.4.2 pydantic-2.11.4 pydantic-core-2.33.2 pyparsing-3.2.3 rsa-4.9.1 smmap-5.0.2 sqlalchemy-2.0.41 sqlparse-0.5.3 starlette-0.46.2 typing-inspection-0.4.1 uvicorn-0.34.2 waitress-3.0.2 werkzeug-3.1.3 wrapt-1.17.2 zipp-3.21.0\n"
     ]
    },
    {
     "name": "stderr",
     "output_type": "stream",
     "text": [
      "\n",
      "[notice] A new release of pip is available: 23.2.1 -> 25.1.1\n",
      "[notice] To update, run: python.exe -m pip install --upgrade pip\n"
     ]
    }
   ],
   "source": [
    "#!pip install scikit-learn\n",
    "#!pip install pandas\n",
    "!pip install mlflow"
   ]
  },
  {
   "cell_type": "code",
   "execution_count": 7,
   "id": "28845814",
   "metadata": {},
   "outputs": [],
   "source": [
    "# Cargar librerías\n",
    "import pandas as pd\n",
    "import numpy as np\n",
    "from sklearn.linear_model import LogisticRegression\n",
    "from sklearn.preprocessing import StandardScaler\n",
    "from sklearn.pipeline import Pipeline\n",
    "from sklearn.model_selection import train_test_split\n",
    "from sklearn.metrics import accuracy_score, precision_score\n",
    "import mlflow\n",
    "import mlflow.sklearn"
   ]
  },
  {
   "cell_type": "code",
   "execution_count": 9,
   "id": "da619e05",
   "metadata": {},
   "outputs": [],
   "source": [
    "# Leer datos\n",
    "df = pd.read_csv(\"data/diabetes.csv\")"
   ]
  },
  {
   "cell_type": "code",
   "execution_count": 10,
   "id": "f287d4ff-786f-400c-acbd-06af393ea280",
   "metadata": {},
   "outputs": [
    {
     "data": {
      "text/plain": [
       "Pregnancies                 111\n",
       "Glucose                       5\n",
       "BloodPressure                35\n",
       "SkinThickness               227\n",
       "Insulin                     374\n",
       "BMI                          11\n",
       "DiabetesPedigreeFunction      0\n",
       "Age                           0\n",
       "Outcome                     500\n",
       "dtype: int64"
      ]
     },
     "execution_count": 10,
     "metadata": {},
     "output_type": "execute_result"
    }
   ],
   "source": [
    "# identifica las columnas que tiene valores 0\n",
    "(df==0).sum()"
   ]
  },
  {
   "cell_type": "code",
   "execution_count": 13,
   "id": "9d063202-3384-456c-8bbf-924911f25144",
   "metadata": {},
   "outputs": [],
   "source": [
    "# Reemplazar ceros en columnas específicas por NaN\n",
    "cols_to_clean = ['Glucose', 'BloodPressure', 'SkinThickness', 'Insulin']\n",
    "# No se consideran algunas, por ejemplo Pregnancies (por qué si es posible que se tengan cero embarazos)\n",
    "\n",
    "# Reemplazar ceros por NaN para poder tratarlos como datos faltantes\n",
    "for col in cols_to_clean:\n",
    "    df[col] = df[col].replace(0, np.nan)\n",
    "\n",
    "# Reemplazar NaN con la moda (valor más frecuente) de cada columna\n",
    "for col in cols_to_clean:\n",
    "    moda = df[col].mode()[0]# buscar el método más común para determinar la moda de una columna\n",
    "    df[col] = df[col].fillna(moda)\n"
   ]
  },
  {
   "cell_type": "code",
   "execution_count": 14,
   "id": "4be9af71",
   "metadata": {},
   "outputs": [],
   "source": [
    "# Separar datos\n",
    "X = df.drop(\"Outcome\", axis=1)\n",
    "y = df[\"Outcome\"]\n",
    "\n",
    "X_train, X_test, y_train, y_test = train_test_split(X, y, test_size=0.2, random_state=42)\n"
   ]
  },
  {
   "cell_type": "code",
   "execution_count": 17,
   "id": "ee6500fe-a589-4021-a1b0-68d0f1f742c7",
   "metadata": {},
   "outputs": [
    {
     "name": "stderr",
     "output_type": "stream",
     "text": [
      "2025/05/21 21:37:30 INFO mlflow.tracking.fluent: Experiment with name 'ClasificadorDemoDiabetes' does not exist. Creating a new experiment.\n"
     ]
    },
    {
     "data": {
      "text/plain": [
       "<Experiment: artifact_location='mlflow-artifacts:/1', creation_time=1747881450937, experiment_id='1', last_update_time=1747881450937, lifecycle_stage='active', name='ClasificadorDemoDiabetes', tags={}>"
      ]
     },
     "execution_count": 17,
     "metadata": {},
     "output_type": "execute_result"
    }
   ],
   "source": [
    "# agregar el traking uri de mlflow\n",
    "mlflow.set_tracking_uri(\"http://localhost:9090/\")\n",
    "# agregar set_experiment con nombre: ClasificadorDemoDiabetes\n",
    "mlflow.set_experiment(experiment_name=\"ClasificadorDemoDiabetes\")"
   ]
  },
  {
   "cell_type": "code",
   "execution_count": 22,
   "id": "d7608c65-046a-491a-b8ff-ef56c8de6b21",
   "metadata": {},
   "outputs": [
    {
     "name": "stdout",
     "output_type": "stream",
     "text": [
      "Columnas del archivo: ['run_id', 'logreg_C', 'logreg_max_iter', 'solver', 'penalty']\n"
     ]
    }
   ],
   "source": [
    "param_df = pd.read_csv(\"data/logreg_variaciones_educativas.csv\")\n",
    "print(\"Columnas del archivo:\", list(param_df.columns))"
   ]
  },
  {
   "cell_type": "code",
   "execution_count": 27,
   "id": "c5784cd6",
   "metadata": {},
   "outputs": [
    {
     "name": "stderr",
     "output_type": "stream",
     "text": [
      "2025/05/21 21:56:03 WARNING mlflow.models.model: Model logged without a signature and input example. Please set `input_example` parameter when logging the model to auto infer the model signature.\n",
      "Registered model 'model1' already exists. Creating a new version of this model...\n",
      "2025/05/21 21:56:03 INFO mlflow.store.model_registry.abstract_store: Waiting up to 300 seconds for model version to finish creation. Model name: model1, version 11\n",
      "Created version '11' of model 'model1'.\n"
     ]
    },
    {
     "name": "stdout",
     "output_type": "stream",
     "text": [
      "[Run 1] Modelo registrado en MLflow\n",
      "Accuracy: 0.7208 | Precision: 0.6034\n",
      "🏃 View run practica_01 at: http://localhost:9090/#/experiments/1/runs/cbbc4c020f4046a597a167a815631ebc\n",
      "🧪 View experiment at: http://localhost:9090/#/experiments/1\n"
     ]
    },
    {
     "name": "stderr",
     "output_type": "stream",
     "text": [
      "2025/05/21 21:56:06 WARNING mlflow.models.model: Model logged without a signature and input example. Please set `input_example` parameter when logging the model to auto infer the model signature.\n",
      "Registered model 'model1' already exists. Creating a new version of this model...\n",
      "2025/05/21 21:56:06 INFO mlflow.store.model_registry.abstract_store: Waiting up to 300 seconds for model version to finish creation. Model name: model1, version 12\n",
      "Created version '12' of model 'model1'.\n"
     ]
    },
    {
     "name": "stdout",
     "output_type": "stream",
     "text": [
      "[Run 2] Modelo registrado en MLflow\n",
      "Accuracy: 0.7532 | Precision: 0.6667\n",
      "🏃 View run practica_02 at: http://localhost:9090/#/experiments/1/runs/6f05d7b9ffea4fc68d89cce5d206ea85\n",
      "🧪 View experiment at: http://localhost:9090/#/experiments/1\n"
     ]
    },
    {
     "name": "stderr",
     "output_type": "stream",
     "text": [
      "2025/05/21 21:56:08 WARNING mlflow.models.model: Model logged without a signature and input example. Please set `input_example` parameter when logging the model to auto infer the model signature.\n",
      "Registered model 'model1' already exists. Creating a new version of this model...\n",
      "2025/05/21 21:56:08 INFO mlflow.store.model_registry.abstract_store: Waiting up to 300 seconds for model version to finish creation. Model name: model1, version 13\n",
      "Created version '13' of model 'model1'.\n"
     ]
    },
    {
     "name": "stdout",
     "output_type": "stream",
     "text": [
      "[Run 3] Modelo registrado en MLflow\n",
      "Accuracy: 0.7532 | Precision: 0.6667\n",
      "🏃 View run practica_03 at: http://localhost:9090/#/experiments/1/runs/01d695e981d949fb812ffe681f04f062\n",
      "🧪 View experiment at: http://localhost:9090/#/experiments/1\n"
     ]
    },
    {
     "name": "stderr",
     "output_type": "stream",
     "text": [
      "2025/05/21 21:56:11 WARNING mlflow.models.model: Model logged without a signature and input example. Please set `input_example` parameter when logging the model to auto infer the model signature.\n",
      "Registered model 'model1' already exists. Creating a new version of this model...\n",
      "2025/05/21 21:56:11 INFO mlflow.store.model_registry.abstract_store: Waiting up to 300 seconds for model version to finish creation. Model name: model1, version 14\n",
      "Created version '14' of model 'model1'.\n"
     ]
    },
    {
     "name": "stdout",
     "output_type": "stream",
     "text": [
      "[Run 4] Modelo registrado en MLflow\n",
      "Accuracy: 0.7532 | Precision: 0.6667\n",
      "🏃 View run practica_04 at: http://localhost:9090/#/experiments/1/runs/7331294ded1a42498dadb8e2573850c9\n",
      "🧪 View experiment at: http://localhost:9090/#/experiments/1\n"
     ]
    },
    {
     "name": "stderr",
     "output_type": "stream",
     "text": [
      "2025/05/21 21:56:14 WARNING mlflow.models.model: Model logged without a signature and input example. Please set `input_example` parameter when logging the model to auto infer the model signature.\n",
      "Registered model 'model1' already exists. Creating a new version of this model...\n",
      "2025/05/21 21:56:14 INFO mlflow.store.model_registry.abstract_store: Waiting up to 300 seconds for model version to finish creation. Model name: model1, version 15\n",
      "Created version '15' of model 'model1'.\n"
     ]
    },
    {
     "name": "stdout",
     "output_type": "stream",
     "text": [
      "[Run 5] Modelo registrado en MLflow\n",
      "Accuracy: 0.7532 | Precision: 0.6667\n",
      "🏃 View run practica_05 at: http://localhost:9090/#/experiments/1/runs/4db25553bb884fbd89cbb06980b28a83\n",
      "🧪 View experiment at: http://localhost:9090/#/experiments/1\n"
     ]
    },
    {
     "name": "stderr",
     "output_type": "stream",
     "text": [
      "2025/05/21 21:56:17 WARNING mlflow.models.model: Model logged without a signature and input example. Please set `input_example` parameter when logging the model to auto infer the model signature.\n",
      "Registered model 'model1' already exists. Creating a new version of this model...\n",
      "2025/05/21 21:56:17 INFO mlflow.store.model_registry.abstract_store: Waiting up to 300 seconds for model version to finish creation. Model name: model1, version 16\n",
      "Created version '16' of model 'model1'.\n"
     ]
    },
    {
     "name": "stdout",
     "output_type": "stream",
     "text": [
      "[Run 6] Modelo registrado en MLflow\n",
      "Accuracy: 0.7532 | Precision: 0.6667\n",
      "🏃 View run practica_06 at: http://localhost:9090/#/experiments/1/runs/fa6e02a708fe4ed4bec5d6c913e5e58c\n",
      "🧪 View experiment at: http://localhost:9090/#/experiments/1\n"
     ]
    },
    {
     "name": "stderr",
     "output_type": "stream",
     "text": [
      "2025/05/21 21:56:19 WARNING mlflow.models.model: Model logged without a signature and input example. Please set `input_example` parameter when logging the model to auto infer the model signature.\n",
      "Registered model 'model1' already exists. Creating a new version of this model...\n",
      "2025/05/21 21:56:20 INFO mlflow.store.model_registry.abstract_store: Waiting up to 300 seconds for model version to finish creation. Model name: model1, version 17\n",
      "Created version '17' of model 'model1'.\n"
     ]
    },
    {
     "name": "stdout",
     "output_type": "stream",
     "text": [
      "[Run 7] Modelo registrado en MLflow\n",
      "Accuracy: 0.7532 | Precision: 0.6667\n",
      "🏃 View run practica_07 at: http://localhost:9090/#/experiments/1/runs/fbf059eba27f4a34b655eb63df44622f\n",
      "🧪 View experiment at: http://localhost:9090/#/experiments/1\n"
     ]
    },
    {
     "name": "stderr",
     "output_type": "stream",
     "text": [
      "2025/05/21 21:56:22 WARNING mlflow.models.model: Model logged without a signature and input example. Please set `input_example` parameter when logging the model to auto infer the model signature.\n",
      "Registered model 'model1' already exists. Creating a new version of this model...\n",
      "2025/05/21 21:56:22 INFO mlflow.store.model_registry.abstract_store: Waiting up to 300 seconds for model version to finish creation. Model name: model1, version 18\n",
      "Created version '18' of model 'model1'.\n"
     ]
    },
    {
     "name": "stdout",
     "output_type": "stream",
     "text": [
      "[Run 8] Modelo registrado en MLflow\n",
      "Accuracy: 0.7532 | Precision: 0.6667\n",
      "🏃 View run practica_08 at: http://localhost:9090/#/experiments/1/runs/8bc3598d362d4abb90263b682ff2b285\n",
      "🧪 View experiment at: http://localhost:9090/#/experiments/1\n"
     ]
    },
    {
     "name": "stderr",
     "output_type": "stream",
     "text": [
      "2025/05/21 21:56:25 WARNING mlflow.models.model: Model logged without a signature and input example. Please set `input_example` parameter when logging the model to auto infer the model signature.\n",
      "Registered model 'model1' already exists. Creating a new version of this model...\n",
      "2025/05/21 21:56:25 INFO mlflow.store.model_registry.abstract_store: Waiting up to 300 seconds for model version to finish creation. Model name: model1, version 19\n",
      "Created version '19' of model 'model1'.\n"
     ]
    },
    {
     "name": "stdout",
     "output_type": "stream",
     "text": [
      "[Run 9] Modelo registrado en MLflow\n",
      "Accuracy: 0.7532 | Precision: 0.6667\n",
      "🏃 View run practica_09 at: http://localhost:9090/#/experiments/1/runs/9d27907355e042ffb798412f17d33add\n",
      "🧪 View experiment at: http://localhost:9090/#/experiments/1\n"
     ]
    },
    {
     "name": "stderr",
     "output_type": "stream",
     "text": [
      "2025/05/21 21:56:28 WARNING mlflow.models.model: Model logged without a signature and input example. Please set `input_example` parameter when logging the model to auto infer the model signature.\n",
      "Registered model 'model1' already exists. Creating a new version of this model...\n",
      "2025/05/21 21:56:28 INFO mlflow.store.model_registry.abstract_store: Waiting up to 300 seconds for model version to finish creation. Model name: model1, version 20\n"
     ]
    },
    {
     "name": "stdout",
     "output_type": "stream",
     "text": [
      "[Run 10] Modelo registrado en MLflow\n",
      "Accuracy: 0.7532 | Precision: 0.6667\n",
      "🏃 View run practica_10 at: http://localhost:9090/#/experiments/1/runs/42d4e33ad0b44013a5d8289b1aa9506f\n",
      "🧪 View experiment at: http://localhost:9090/#/experiments/1\n"
     ]
    },
    {
     "name": "stderr",
     "output_type": "stream",
     "text": [
      "Created version '20' of model 'model1'.\n"
     ]
    }
   ],
   "source": [
    "import pandas as pd\n",
    "import mlflow\n",
    "import mlflow.sklearn\n",
    "from sklearn.pipeline import Pipeline\n",
    "from sklearn.linear_model import LogisticRegression\n",
    "from sklearn.preprocessing import StandardScaler\n",
    "from sklearn.metrics import accuracy_score, precision_score\n",
    "\n",
    "# Cargar los parámetros desde el archivo CSV\n",
    "param_df = pd.read_csv(\"data/logreg_variaciones_educativas.csv\")\n",
    "\n",
    "for idx, row in param_df.iterrows():\n",
    "    C = float(row[\"logreg_C\"])\n",
    "    max_iter = int(row[\"logreg_max_iter\"])\n",
    "    solver = row[\"solver\"]\n",
    "    penalty = row[\"penalty\"]\n",
    "    run_id = row[\"run_id\"]\n",
    "    \n",
    "    with mlflow.start_run(run_name=run_id):\n",
    "        pipeline = Pipeline([\n",
    "            (\"scaler\", StandardScaler()),\n",
    "            (\"clf\", LogisticRegression(\n",
    "                C=C,\n",
    "                max_iter=max_iter,\n",
    "                solver=solver,\n",
    "                penalty=penalty\n",
    "            ))\n",
    "        ])\n",
    "\n",
    "        # Entrenar y evaluar\n",
    "        pipeline.fit(X_train, y_train)\n",
    "        y_pred = pipeline.predict(X_test)\n",
    "\n",
    "        acc = accuracy_score(y_test, y_pred)\n",
    "        prec = precision_score(y_test, y_pred)\n",
    "\n",
    "        # Registrar hiperparámetros\n",
    "        mlflow.log_param(\"logreg_C\", C)\n",
    "        mlflow.log_param(\"logreg_max_iter\", max_iter)\n",
    "        mlflow.log_param(\"solver\", solver)\n",
    "        mlflow.log_param(\"penalty\", penalty)\n",
    "\n",
    "        # Registrar métricas\n",
    "        mlflow.log_metric(\"accuracy\", acc)\n",
    "        mlflow.log_metric(\"precision\", prec)\n",
    "\n",
    "        # Guardar el modelo\n",
    "        mlflow.sklearn.log_model(pipeline, \"modelo_pipeline\")\n",
    "\n",
    "        from mlflow.tracking import MlflowClient\n",
    "\n",
    "        # Obtener el run_id actual\n",
    "        run_id = mlflow.active_run().info.run_id\n",
    "        \n",
    "        # Registrar el modelo en el Model Registry con el nombre 'model1'\n",
    "        result = mlflow.register_model(\n",
    "            model_uri=f\"runs:/{run_id}/modelo_pipeline\",\n",
    "            name=\"model1\"\n",
    "        )\n",
    "\n",
    "        print(f\"[Run {idx+1}] Modelo registrado en MLflow\")\n",
    "        print(f\"Accuracy: {acc:.4f} | Precision: {prec:.4f}\")"
   ]
  },
  {
   "cell_type": "code",
   "execution_count": 25,
   "id": "06c9eb27-a3f2-4e14-b2bc-e308fc71514b",
   "metadata": {},
   "outputs": [
    {
     "name": "stdout",
     "output_type": "stream",
     "text": [
      "model1\n"
     ]
    }
   ],
   "source": [
    "from mlflow.tracking import MlflowClient\n",
    "\n",
    "client = MlflowClient()\n",
    "models = client.search_registered_models()\n",
    "for m in models:\n",
    "    print(m.name)"
   ]
  },
  {
   "cell_type": "code",
   "execution_count": null,
   "id": "a8b2f862-619a-4bf8-bf9e-d63490e6e2fe",
   "metadata": {},
   "outputs": [],
   "source": []
  }
 ],
 "metadata": {
  "kernelspec": {
   "display_name": "Python 3 (ipykernel)",
   "language": "python",
   "name": "python3"
  },
  "language_info": {
   "codemirror_mode": {
    "name": "ipython",
    "version": 3
   },
   "file_extension": ".py",
   "mimetype": "text/x-python",
   "name": "python",
   "nbconvert_exporter": "python",
   "pygments_lexer": "ipython3",
   "version": "3.12.0"
  }
 },
 "nbformat": 4,
 "nbformat_minor": 5
}
